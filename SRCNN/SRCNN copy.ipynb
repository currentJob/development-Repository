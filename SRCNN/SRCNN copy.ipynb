{
 "cells": [
  {
   "cell_type": "code",
   "execution_count": null,
   "metadata": {},
   "outputs": [],
   "source": [
    "import cv2"
   ]
  },
  {
   "cell_type": "code",
   "execution_count": null,
   "metadata": {},
   "outputs": [],
   "source": [
    "# 테스트 이미지 전처리 함수\n",
    "def preprocess_test_image(image_path):\n",
    "    img = cv2.imread(image_path, cv2.IMREAD_COLOR)\n",
    "\n",
    "    if img is None:\n",
    "        raise ValueError(\"이미지를 불러올 수 없습니다.\")\n",
    "\n",
    "    FIXED_SIZE = (256, 256)\n",
    "    img = cv2.resize(img, FIXED_SIZE)\n",
    "\n",
    "    cv2.imwrite(\"image3.jpg\", cv2.cvtColor(img))\n",
    "\n",
    "    return img\n",
    "\n",
    "preprocess_test_image(\"img/images.jpg\")"
   ]
  }
 ],
 "metadata": {
  "kernelspec": {
   "display_name": "python-39",
   "language": "python",
   "name": "python3"
  },
  "language_info": {
   "codemirror_mode": {
    "name": "ipython",
    "version": 3
   },
   "file_extension": ".py",
   "mimetype": "text/x-python",
   "name": "python",
   "nbconvert_exporter": "python",
   "pygments_lexer": "ipython3",
   "version": "3.9.21"
  }
 },
 "nbformat": 4,
 "nbformat_minor": 2
}
