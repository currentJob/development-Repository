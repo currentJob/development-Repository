{
 "cells": [
  {
   "cell_type": "code",
   "execution_count": 16,
   "metadata": {},
   "outputs": [],
   "source": [
    "from requests import get\n",
    "from bs4 import BeautifulSoup\n",
    "\n",
    "def extractor_jobs(keyword):\n",
    "    \"\"\"\n",
    "    주어진 키워드로 We Work Remotely 웹사이트에서 채용 정보를 추출하는 함수\n",
    "\n",
    "    Args:\n",
    "        keyword (str): 검색할 채용 키워드\n",
    "\n",
    "    Returns:\n",
    "        list: 추출된 채용 정보를 담은 딕셔너리 리스트\n",
    "    \"\"\"\n",
    "    base_url = \"https://weworkremotely.com/remote-jobs/search?term=\" # WWR 기본 URL\n",
    "    search_term = keyword # 검색어\n",
    "\n",
    "    response = get(f\"{base_url}{search_term}\") # 검색어를 포함한 URL로 GET 요청\n",
    "\n",
    "    if response.status_code != 200: # 응답 상태 코드가 200 (성공)이 아닌 경우\n",
    "        print(\"웹사이트에 요청할 수 없습니다.\")\n",
    "    else:\n",
    "        results = [] # 추출된 채용 정보를 저장할 리스트\n",
    "        soup = BeautifulSoup(response.text, \"html.parser\") # HTML 파싱\n",
    "        jobs = soup.find_all(\"section\", class_=\"jobs\") # \"jobs\" 클래스를 가진 모든 섹션 검색 (채용 정보 섹션)\n",
    "\n",
    "        for job_section in jobs: # 각 채용 정보 섹션 순회\n",
    "            job_posts = job_section.find_all('li') # 각 섹션 내의 모든 채용 게시글 검색\n",
    "            job_posts.pop(-1) # 마지막 li 요소 제거 (보통 \"더 많은 채용 정보\" 링크)\n",
    "\n",
    "            for post in job_posts: # 각 채용 게시글 순회\n",
    "                anchors = post.find_all('a') # 모든 <a> 태그 검색\n",
    "                anchor = anchors[1] # 두 번째 <a> 태그 선택 (채용 링크)\n",
    "                link = anchor['href'] # 채용 링크 추출\n",
    "                company_spans = anchor.find_all('span', class_='company') # 회사 정보를 담은 모든 <span> 태그 검색\n",
    "\n",
    "                if len(company_spans) >= 2:  # 회사 및 종류가 있는지 확인\n",
    "                    company = company_spans[0].string # 회사명 추출\n",
    "                    kind = company_spans[1].string # 채용 종류 추출\n",
    "                    region = company_spans[2].string if len(company_spans) >= 3 else \"N/A\" # 지역 정보 추출, 없으면 \"N/A\"\n",
    "                elif len(company_spans) == 1: # 회사만 있는 경우\n",
    "                    company = company_spans[0].string\n",
    "                    kind = \"N/A\"\n",
    "                    region = \"N/A\"\n",
    "                else: # 회사 및 종류가 모두 없는 경우\n",
    "                    company = \"N/A\"\n",
    "                    kind = \"N/A\"\n",
    "                    region = \"N/A\"\n",
    "                    continue # 이 채용 공고는 건너뜀\n",
    "\n",
    "                title = anchor.find('span', class_='title') # 채용 제목 추출\n",
    "                job_data = { # 채용 정보 딕셔너리 생성\n",
    "                    'link': link,\n",
    "                    'company': company,\n",
    "                    'region': region,\n",
    "                    'position': title.string\n",
    "                }\n",
    "                results.append(job_data) # 채용 정보 리스트에 추가\n",
    "\n",
    "        return results # 추출된 채용 정보 리스트 반환"
   ]
  },
  {
   "cell_type": "code",
   "execution_count": 17,
   "metadata": {},
   "outputs": [
    {
     "data": {
      "text/plain": [
       "[{'link': '/remote-jobs/lemon-io-senior-react-python-developer-3',\n",
       "  'company': 'Lemon.io',\n",
       "  'region': 'Anywhere in the World',\n",
       "  'position': 'Senior React & Python Developer'},\n",
       " {'link': '/remote-jobs/onthegosystems-php-python-developer',\n",
       "  'company': 'OnTheGoSystems',\n",
       "  'region': 'Europe Only',\n",
       "  'position': 'PHP / Python Developer'},\n",
       " {'link': '/remote-jobs/lemon-io-senior-python-node-js-developer',\n",
       "  'company': 'Lemon.io',\n",
       "  'region': 'Latin America Only/Europe Only/UK Only/Canada Only/Asia Only/Oceania Only',\n",
       "  'position': 'Senior Python & Node.js Developer'},\n",
       " {'link': '/remote-jobs/clouddevs-python-fullstack-engineer-1',\n",
       "  'company': 'CloudDevs',\n",
       "  'region': 'Latin America Only/UK Only/EMEA Only',\n",
       "  'position': 'Python Fullstack Engineer'},\n",
       " {'link': '/remote-jobs/art-logic-senior-python-web-developer',\n",
       "  'company': 'Art+Logic',\n",
       "  'region': 'USA Only/North America Only/Latin America Only/Americas Only/Canada Only/Other (don’t specify)',\n",
       "  'position': 'Senior Python Web Developer'},\n",
       " {'link': '/remote-jobs/doximity-software-engineer-python-data-platform',\n",
       "  'company': 'Doximity',\n",
       "  'region': 'USA Only',\n",
       "  'position': 'Software Engineer (Python), Data Platform'},\n",
       " {'link': '/remote-jobs/speechify-inc-senior-software-engineer-ml-platform-data-acquisition-python',\n",
       "  'company': 'Speechify Inc',\n",
       "  'region': 'Anywhere in the World',\n",
       "  'position': 'Senior Software Engineer, ML Platform & Data Acquisition (Python)'},\n",
       " {'link': '/remote-jobs/close-senior-software-engineer-backend-python-usa-only-100-remote',\n",
       "  'company': 'Close',\n",
       "  'region': 'USA Only',\n",
       "  'position': 'Senior Software Engineer - Backend/Python - USA Only (100% Remote)'}]"
      ]
     },
     "execution_count": 17,
     "metadata": {},
     "output_type": "execute_result"
    }
   ],
   "source": [
    "extractor_jobs(\"python\")"
   ]
  },
  {
   "cell_type": "code",
   "execution_count": null,
   "metadata": {},
   "outputs": [],
   "source": []
  }
 ],
 "metadata": {
  "kernelspec": {
   "display_name": "base",
   "language": "python",
   "name": "python3"
  },
  "language_info": {
   "codemirror_mode": {
    "name": "ipython",
    "version": 3
   },
   "file_extension": ".py",
   "mimetype": "text/x-python",
   "name": "python",
   "nbconvert_exporter": "python",
   "pygments_lexer": "ipython3",
   "version": "3.11.7"
  }
 },
 "nbformat": 4,
 "nbformat_minor": 2
}
